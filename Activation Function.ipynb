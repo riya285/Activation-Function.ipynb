{
 "cells": [
  {
   "cell_type": "code",
   "execution_count": null,
   "id": "af5bc7d9-70a1-4503-993c-184623cbec78",
   "metadata": {},
   "outputs": [],
   "source": [
    "Q1. An activation function in the context of artificial neural networks is a mathematical function that takes the weighted sum of inputs into a neuron and generates an output. Activation functions introduce non-linearity into the network, allowing it to model complex relationships between inputs and outputs.\n",
    "\n",
    "Q2. Some common types of activation functions used in neural networks include:\n",
    "\n",
    "Sigmoid\n",
    "Hyperbolic tangent (tanh)\n",
    "Rectified linear unit (ReLU)\n",
    "Leaky ReLU\n",
    "Softmax\n",
    "Q3. Activation functions play a crucial role in the training process and performance of a neural network. They introduce non-linearity, enabling the network to learn and adapt to new patterns and variations in the input data. The choice of activation function also impacts the speed of training and the overall performance of the neural network.\n",
    "\n",
    "Q4. The sigmoid activation function, denoted by σ(x), maps any input x into a value between 0 and 1. It is commonly used as the activation function for the output layer of binary classification problems. The sigmoid function is continuous, but it has a gradient that is not constant at 0. This can slow down the learning process in some cases.\n",
    "\n",
    "Here is the formula for the sigmoid function: σ(x) = 1 / (1 + exp(-x))\n",
    "\n",
    "Q5. The rectified linear unit (ReLU) activation function, denoted by max(0, x), maps any input x into a value between 0 and infinity. It is defined as the maximum of 0 and x. The ReLU function is not continuous, but it has the advantage of being computationally efficient and addressing the vanishing gradient problem that can occur during training.\n",
    "\n",
    "Here is the formula for the ReLU function: f(x) = max(0, x)\n",
    "\n",
    "Q6. Some benefits of using the ReLU activation function over the sigmoid function include:\n",
    "\n",
    "ReLU is computationally efficient, as it involves only simple addition and multiplication operations.\n",
    "ReLU eliminates the vanishing gradient problem, which can occur during training if the derivative of the sigmoid function is close to 0.\n",
    "ReLU has been shown to lead to faster convergence and improved performance compared to sigmoid in some cases.\n",
    "Q7. The concept of \"leaky ReLU\" is an extension of the ReLU function that allows for a small, non-zero gradient when the input is negative. This addresses the issue of the ReLU function being not differentiable at 0, leading to a sharp drop in the training process. The leaky ReLU function is defined as: f(x) = max(αx, x)\n",
    "\n",
    "Here, α is a small positive constant.\n",
    "\n",
    "Q8. The softmax activation function is used to convert the outputs of a neural network into probabilities that sum up to 1. It is commonly used as the activation function for the output layer of multi-class classification problems. The softmax function is differentiable, which allows it to be used in backpropagation for training neural networks.\n",
    "\n",
    "Here is the formula for the softmax function: P(y_i) = exp(y_i) / Σ_j exp(y_j)\n",
    "\n",
    "Q9. The hyperbolic tangent (tanh) activation function, denoted by tanh(x), maps any input x into a value between -1 and 1. It is continuous and differentiable, making it suitable for use in neural networks. However, unlike the sigmoid function, the tanh function does not squash the input values to fit within a specific range. Instead, it maps the input x to a value proportional to its size. This can be an advantage or disadvantage depending on the problem at hand.\n"
   ]
  }
 ],
 "metadata": {
  "kernelspec": {
   "display_name": "Python 3 (ipykernel)",
   "language": "python",
   "name": "python3"
  },
  "language_info": {
   "codemirror_mode": {
    "name": "ipython",
    "version": 3
   },
   "file_extension": ".py",
   "mimetype": "text/x-python",
   "name": "python",
   "nbconvert_exporter": "python",
   "pygments_lexer": "ipython3",
   "version": "3.10.8"
  }
 },
 "nbformat": 4,
 "nbformat_minor": 5
}
